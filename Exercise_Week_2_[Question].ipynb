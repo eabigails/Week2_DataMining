{
  "cells": [
    {
      "cell_type": "markdown",
      "metadata": {
        "id": "AoYZgxl42T9R"
      },
      "source": [
        "## Week 2\n",
        "\n",
        "Please print your name and your NIM."
      ]
    },
    {
      "cell_type": "code",
      "execution_count": 4,
      "metadata": {
        "colab": {
          "base_uri": "https://localhost:8080/"
        },
        "id": "qB4dI-wUN-iY",
        "outputId": "36b23741-e9ba-4e1e-c7a1-2e1297b7d6e6"
      },
      "outputs": [
        {
          "name": "stdout",
          "output_type": "stream",
          "text": [
            "Eugene Abigail Setiawan - 0706022210061\n"
          ]
        }
      ],
      "source": [
        "# here\n",
        "print(\"Eugene Abigail Setiawan - 0706022210061\")"
      ]
    },
    {
      "cell_type": "markdown",
      "metadata": {
        "id": "KvNKLkQs3TYR"
      },
      "source": [
        "## Pandas"
      ]
    },
    {
      "cell_type": "markdown",
      "metadata": {
        "id": "uh41N6Fk4JdO"
      },
      "source": [
        "Please import the necessary library here."
      ]
    },
    {
      "cell_type": "code",
      "execution_count": 5,
      "metadata": {
        "id": "uuSnflSvM-Kv"
      },
      "outputs": [],
      "source": [
        "# Import Library\n",
        "import pandas as pd\n",
        "import matplotlib.pyplot as plt"
      ]
    },
    {
      "cell_type": "markdown",
      "metadata": {
        "id": "hUDlryKi4hX1"
      },
      "source": [
        "<h1> Import Data"
      ]
    },
    {
      "cell_type": "markdown",
      "metadata": {
        "id": "_Useox1H5Gju"
      },
      "source": [
        "Please download the data from Elearn. <br>\n",
        "then input the data from:\n",
        "1. CSV File\n",
        "2. Excel File\n",
        "3. JSON File\n",
        "4. Text File, add header 'English' and 'France'\n",
        "5. Web Dataset - https://raw.githubusercontent.com/michellechandraa/TutorDataMining/refs/heads/main/menu.csv\n",
        "\n",
        "into the dataframe"
      ]
    },
    {
      "cell_type": "code",
      "execution_count": 6,
      "metadata": {
        "colab": {
          "base_uri": "https://localhost:8080/",
          "height": 206
        },
        "id": "LzFoxbpk4glS",
        "outputId": "ef16d4bb-37a5-4744-a008-3682d6d5c7b0"
      },
      "outputs": [
        {
          "data": {
            "text/html": [
              "<div>\n",
              "<style scoped>\n",
              "    .dataframe tbody tr th:only-of-type {\n",
              "        vertical-align: middle;\n",
              "    }\n",
              "\n",
              "    .dataframe tbody tr th {\n",
              "        vertical-align: top;\n",
              "    }\n",
              "\n",
              "    .dataframe thead th {\n",
              "        text-align: right;\n",
              "    }\n",
              "</style>\n",
              "<table border=\"1\" class=\"dataframe\">\n",
              "  <thead>\n",
              "    <tr style=\"text-align: right;\">\n",
              "      <th></th>\n",
              "      <th>Date</th>\n",
              "      <th>Time</th>\n",
              "      <th>Temperature (Celsius)</th>\n",
              "      <th>Ice Cream Sales</th>\n",
              "    </tr>\n",
              "  </thead>\n",
              "  <tbody>\n",
              "    <tr>\n",
              "      <th>0</th>\n",
              "      <td>2023-01-01</td>\n",
              "      <td>08:00</td>\n",
              "      <td>18</td>\n",
              "      <td>20</td>\n",
              "    </tr>\n",
              "    <tr>\n",
              "      <th>1</th>\n",
              "      <td>2023-01-01</td>\n",
              "      <td>08:05</td>\n",
              "      <td>19</td>\n",
              "      <td>22</td>\n",
              "    </tr>\n",
              "    <tr>\n",
              "      <th>2</th>\n",
              "      <td>2023-01-01</td>\n",
              "      <td>08:10</td>\n",
              "      <td>20</td>\n",
              "      <td>25</td>\n",
              "    </tr>\n",
              "    <tr>\n",
              "      <th>3</th>\n",
              "      <td>2023-01-01</td>\n",
              "      <td>08:15</td>\n",
              "      <td>21</td>\n",
              "      <td>24</td>\n",
              "    </tr>\n",
              "    <tr>\n",
              "      <th>4</th>\n",
              "      <td>2023-01-01</td>\n",
              "      <td>08:20</td>\n",
              "      <td>22</td>\n",
              "      <td>26</td>\n",
              "    </tr>\n",
              "  </tbody>\n",
              "</table>\n",
              "</div>"
            ],
            "text/plain": [
              "         Date   Time  Temperature (Celsius)  Ice Cream Sales\n",
              "0  2023-01-01  08:00                     18               20\n",
              "1  2023-01-01  08:05                     19               22\n",
              "2  2023-01-01  08:10                     20               25\n",
              "3  2023-01-01  08:15                     21               24\n",
              "4  2023-01-01  08:20                     22               26"
            ]
          },
          "execution_count": 6,
          "metadata": {},
          "output_type": "execute_result"
        }
      ],
      "source": [
        "df_csv = pd.read_csv('Ice Cream Sales and Temperature.csv')\n",
        "df_csv.head()"
      ]
    },
    {
      "cell_type": "code",
      "execution_count": 7,
      "metadata": {
        "colab": {
          "base_uri": "https://localhost:8080/",
          "height": 206
        },
        "id": "fjdqLlE2OCAJ",
        "outputId": "f2743673-75e1-458a-b117-ee8f7d9d9bb8"
      },
      "outputs": [
        {
          "data": {
            "text/html": [
              "<div>\n",
              "<style scoped>\n",
              "    .dataframe tbody tr th:only-of-type {\n",
              "        vertical-align: middle;\n",
              "    }\n",
              "\n",
              "    .dataframe tbody tr th {\n",
              "        vertical-align: top;\n",
              "    }\n",
              "\n",
              "    .dataframe thead th {\n",
              "        text-align: right;\n",
              "    }\n",
              "</style>\n",
              "<table border=\"1\" class=\"dataframe\">\n",
              "  <thead>\n",
              "    <tr style=\"text-align: right;\">\n",
              "      <th></th>\n",
              "      <th>Student ID</th>\n",
              "      <th>Undergrad Degree</th>\n",
              "      <th>Undergrad Grade</th>\n",
              "      <th>MBA Grade</th>\n",
              "      <th>Work Experience</th>\n",
              "      <th>Employability (Before)</th>\n",
              "      <th>Employability (After)</th>\n",
              "      <th>Status</th>\n",
              "      <th>Annual Salary</th>\n",
              "    </tr>\n",
              "  </thead>\n",
              "  <tbody>\n",
              "    <tr>\n",
              "      <th>0</th>\n",
              "      <td>1</td>\n",
              "      <td>Business</td>\n",
              "      <td>68.4</td>\n",
              "      <td>90.2</td>\n",
              "      <td>No</td>\n",
              "      <td>252.0</td>\n",
              "      <td>276.0</td>\n",
              "      <td>Placed</td>\n",
              "      <td>111000.0</td>\n",
              "    </tr>\n",
              "    <tr>\n",
              "      <th>1</th>\n",
              "      <td>2</td>\n",
              "      <td>Business</td>\n",
              "      <td>62.1</td>\n",
              "      <td>92.8</td>\n",
              "      <td>No</td>\n",
              "      <td>423.0</td>\n",
              "      <td>410.0</td>\n",
              "      <td>Not Placed</td>\n",
              "      <td>NaN</td>\n",
              "    </tr>\n",
              "    <tr>\n",
              "      <th>2</th>\n",
              "      <td>3</td>\n",
              "      <td>Computer Science</td>\n",
              "      <td>70.2</td>\n",
              "      <td>68.7</td>\n",
              "      <td>Yes</td>\n",
              "      <td>101.0</td>\n",
              "      <td>119.0</td>\n",
              "      <td>Placed</td>\n",
              "      <td>107000.0</td>\n",
              "    </tr>\n",
              "    <tr>\n",
              "      <th>3</th>\n",
              "      <td>4</td>\n",
              "      <td>Engineering</td>\n",
              "      <td>75.1</td>\n",
              "      <td>80.7</td>\n",
              "      <td>No</td>\n",
              "      <td>288.0</td>\n",
              "      <td>334.0</td>\n",
              "      <td>Not Placed</td>\n",
              "      <td>NaN</td>\n",
              "    </tr>\n",
              "    <tr>\n",
              "      <th>4</th>\n",
              "      <td>5</td>\n",
              "      <td>Finance</td>\n",
              "      <td>60.9</td>\n",
              "      <td>74.9</td>\n",
              "      <td>No</td>\n",
              "      <td>248.0</td>\n",
              "      <td>252.0</td>\n",
              "      <td>Not Placed</td>\n",
              "      <td>NaN</td>\n",
              "    </tr>\n",
              "  </tbody>\n",
              "</table>\n",
              "</div>"
            ],
            "text/plain": [
              "   Student ID  Undergrad Degree  Undergrad Grade  MBA Grade Work Experience  \\\n",
              "0           1          Business             68.4       90.2              No   \n",
              "1           2          Business             62.1       92.8              No   \n",
              "2           3  Computer Science             70.2       68.7             Yes   \n",
              "3           4       Engineering             75.1       80.7              No   \n",
              "4           5           Finance             60.9       74.9              No   \n",
              "\n",
              "   Employability (Before)  Employability (After)      Status  Annual Salary  \n",
              "0                   252.0                  276.0      Placed       111000.0  \n",
              "1                   423.0                  410.0  Not Placed            NaN  \n",
              "2                   101.0                  119.0      Placed       107000.0  \n",
              "3                   288.0                  334.0  Not Placed            NaN  \n",
              "4                   248.0                  252.0  Not Placed            NaN  "
            ]
          },
          "execution_count": 7,
          "metadata": {},
          "output_type": "execute_result"
        }
      ],
      "source": [
        "# 2\n",
        "df_excel= pd.read_excel(\"Maven Business School.xlsx\")\n",
        "df_excel.head()"
      ]
    },
    {
      "cell_type": "code",
      "execution_count": 8,
      "metadata": {
        "colab": {
          "base_uri": "https://localhost:8080/",
          "height": 206
        },
        "id": "23yPhoH7OC3Z",
        "outputId": "0856cea9-04ce-482c-9007-cc924fcbb1d5"
      },
      "outputs": [
        {
          "data": {
            "text/html": [
              "<div>\n",
              "<style scoped>\n",
              "    .dataframe tbody tr th:only-of-type {\n",
              "        vertical-align: middle;\n",
              "    }\n",
              "\n",
              "    .dataframe tbody tr th {\n",
              "        vertical-align: top;\n",
              "    }\n",
              "\n",
              "    .dataframe thead th {\n",
              "        text-align: right;\n",
              "    }\n",
              "</style>\n",
              "<table border=\"1\" class=\"dataframe\">\n",
              "  <thead>\n",
              "    <tr style=\"text-align: right;\">\n",
              "      <th></th>\n",
              "      <th>album</th>\n",
              "      <th>lyrics_title</th>\n",
              "      <th>lyrics_url</th>\n",
              "      <th>lyrics</th>\n",
              "      <th>track_views</th>\n",
              "    </tr>\n",
              "  </thead>\n",
              "  <tbody>\n",
              "    <tr>\n",
              "      <th>0</th>\n",
              "      <td>Certified Lover Boy</td>\n",
              "      <td>Certified Lover Boy* Lyrics</td>\n",
              "      <td>https://genius.com/Drake-certified-lover-boy-l...</td>\n",
              "      <td>Lyrics from CLB Merch\\n\\n[Verse]\\nPut my feeli...</td>\n",
              "      <td>8.7K</td>\n",
              "    </tr>\n",
              "    <tr>\n",
              "      <th>1</th>\n",
              "      <td>Certified Lover Boy</td>\n",
              "      <td>Like I’m Supposed To/Do Things Lyrics</td>\n",
              "      <td>https://genius.com/Drake-like-im-supposed-to-d...</td>\n",
              "      <td>[Verse]\\nHands are tied\\nSomeone's in my ear f...</td>\n",
              "      <td>38.8K</td>\n",
              "    </tr>\n",
              "    <tr>\n",
              "      <th>2</th>\n",
              "      <td>Certified Lover Boy</td>\n",
              "      <td>Not Around Lyrics</td>\n",
              "      <td>https://genius.com/Drake-not-around-lyrics</td>\n",
              "      <td>[Intro]\\nYeah, we back\\nWassup ladies?\\nSwisha...</td>\n",
              "      <td>129.8K</td>\n",
              "    </tr>\n",
              "    <tr>\n",
              "      <th>3</th>\n",
              "      <td>Certified Lover Boy</td>\n",
              "      <td>In the Cut (Ft. Roddy Ricch) Lyrics</td>\n",
              "      <td>https://genius.com/Drake-in-the-cut-lyrics</td>\n",
              "      <td>[Intro: Drake]\\nAyy, yeah\\nPipe this shit up a...</td>\n",
              "      <td>72.1K</td>\n",
              "    </tr>\n",
              "    <tr>\n",
              "      <th>4</th>\n",
              "      <td>Certified Lover Boy</td>\n",
              "      <td>Zodiac Sign (Ft. Jessie Reyez) Lyrics</td>\n",
              "      <td>https://genius.com/Drake-zodiac-sign-lyrics</td>\n",
              "      <td>[Verse 1: Drake]\\nYou ask how many girls I bee...</td>\n",
              "      <td>54.8K</td>\n",
              "    </tr>\n",
              "  </tbody>\n",
              "</table>\n",
              "</div>"
            ],
            "text/plain": [
              "                 album                           lyrics_title  \\\n",
              "0  Certified Lover Boy            Certified Lover Boy* Lyrics   \n",
              "1  Certified Lover Boy  Like I’m Supposed To/Do Things Lyrics   \n",
              "2  Certified Lover Boy                      Not Around Lyrics   \n",
              "3  Certified Lover Boy    In the Cut (Ft. Roddy Ricch) Lyrics   \n",
              "4  Certified Lover Boy  Zodiac Sign (Ft. Jessie Reyez) Lyrics   \n",
              "\n",
              "                                          lyrics_url  \\\n",
              "0  https://genius.com/Drake-certified-lover-boy-l...   \n",
              "1  https://genius.com/Drake-like-im-supposed-to-d...   \n",
              "2         https://genius.com/Drake-not-around-lyrics   \n",
              "3         https://genius.com/Drake-in-the-cut-lyrics   \n",
              "4        https://genius.com/Drake-zodiac-sign-lyrics   \n",
              "\n",
              "                                              lyrics track_views  \n",
              "0  Lyrics from CLB Merch\\n\\n[Verse]\\nPut my feeli...        8.7K  \n",
              "1  [Verse]\\nHands are tied\\nSomeone's in my ear f...       38.8K  \n",
              "2  [Intro]\\nYeah, we back\\nWassup ladies?\\nSwisha...      129.8K  \n",
              "3  [Intro: Drake]\\nAyy, yeah\\nPipe this shit up a...       72.1K  \n",
              "4  [Verse 1: Drake]\\nYou ask how many girls I bee...       54.8K  "
            ]
          },
          "execution_count": 8,
          "metadata": {},
          "output_type": "execute_result"
        }
      ],
      "source": [
        "# 3\n",
        "df_json = pd.read_json('drake_data.json')\n",
        "df_json.head()"
      ]
    },
    {
      "cell_type": "code",
      "execution_count": 9,
      "metadata": {
        "colab": {
          "base_uri": "https://localhost:8080/",
          "height": 362
        },
        "id": "AJWubbnC_HXR",
        "outputId": "6a58872f-1bf3-4cec-d10b-860402330212"
      },
      "outputs": [
        {
          "data": {
            "text/html": [
              "<div>\n",
              "<style scoped>\n",
              "    .dataframe tbody tr th:only-of-type {\n",
              "        vertical-align: middle;\n",
              "    }\n",
              "\n",
              "    .dataframe tbody tr th {\n",
              "        vertical-align: top;\n",
              "    }\n",
              "\n",
              "    .dataframe thead th {\n",
              "        text-align: right;\n",
              "    }\n",
              "</style>\n",
              "<table border=\"1\" class=\"dataframe\">\n",
              "  <thead>\n",
              "    <tr style=\"text-align: right;\">\n",
              "      <th></th>\n",
              "      <th>English</th>\n",
              "      <th>France</th>\n",
              "    </tr>\n",
              "  </thead>\n",
              "  <tbody>\n",
              "    <tr>\n",
              "      <th>0</th>\n",
              "      <td>Go.</td>\n",
              "      <td>Va !</td>\n",
              "    </tr>\n",
              "    <tr>\n",
              "      <th>1</th>\n",
              "      <td>Run!</td>\n",
              "      <td>Cours !</td>\n",
              "    </tr>\n",
              "    <tr>\n",
              "      <th>2</th>\n",
              "      <td>Run!</td>\n",
              "      <td>Courez !</td>\n",
              "    </tr>\n",
              "    <tr>\n",
              "      <th>3</th>\n",
              "      <td>Wow!</td>\n",
              "      <td>Ça alors !</td>\n",
              "    </tr>\n",
              "    <tr>\n",
              "      <th>4</th>\n",
              "      <td>Fire!</td>\n",
              "      <td>Au feu !</td>\n",
              "    </tr>\n",
              "  </tbody>\n",
              "</table>\n",
              "</div>"
            ],
            "text/plain": [
              "  English      France\n",
              "0     Go.        Va !\n",
              "1    Run!     Cours !\n",
              "2    Run!    Courez !\n",
              "3    Wow!  Ça alors !\n",
              "4   Fire!    Au feu !"
            ]
          },
          "execution_count": 9,
          "metadata": {},
          "output_type": "execute_result"
        }
      ],
      "source": [
        "# 4\n",
        "df_txt = pd.read_table('eng-fra.txt', names=['English', 'France'])\n",
        "df_txt.head()"
      ]
    },
    {
      "cell_type": "code",
      "execution_count": 10,
      "metadata": {
        "colab": {
          "base_uri": "https://localhost:8080/",
          "height": 461
        },
        "id": "snnE_dmFBmFG",
        "outputId": "cde0bba8-bf54-407e-925c-43431ddbdf02"
      },
      "outputs": [
        {
          "data": {
            "text/html": [
              "<div>\n",
              "<style scoped>\n",
              "    .dataframe tbody tr th:only-of-type {\n",
              "        vertical-align: middle;\n",
              "    }\n",
              "\n",
              "    .dataframe tbody tr th {\n",
              "        vertical-align: top;\n",
              "    }\n",
              "\n",
              "    .dataframe thead th {\n",
              "        text-align: right;\n",
              "    }\n",
              "</style>\n",
              "<table border=\"1\" class=\"dataframe\">\n",
              "  <thead>\n",
              "    <tr style=\"text-align: right;\">\n",
              "      <th></th>\n",
              "      <th>Category</th>\n",
              "      <th>Item</th>\n",
              "      <th>Serving Size</th>\n",
              "      <th>Calories</th>\n",
              "      <th>Calories from Fat</th>\n",
              "      <th>Total Fat</th>\n",
              "      <th>Total Fat (% Daily Value)</th>\n",
              "      <th>Saturated Fat</th>\n",
              "      <th>Saturated Fat (% Daily Value)</th>\n",
              "      <th>Trans Fat</th>\n",
              "      <th>...</th>\n",
              "      <th>Carbohydrates</th>\n",
              "      <th>Carbohydrates (% Daily Value)</th>\n",
              "      <th>Dietary Fiber</th>\n",
              "      <th>Dietary Fiber (% Daily Value)</th>\n",
              "      <th>Sugars</th>\n",
              "      <th>Protein</th>\n",
              "      <th>Vitamin A (% Daily Value)</th>\n",
              "      <th>Vitamin C (% Daily Value)</th>\n",
              "      <th>Calcium (% Daily Value)</th>\n",
              "      <th>Iron (% Daily Value)</th>\n",
              "    </tr>\n",
              "  </thead>\n",
              "  <tbody>\n",
              "    <tr>\n",
              "      <th>0</th>\n",
              "      <td>Breakfast</td>\n",
              "      <td>Egg McMuffin</td>\n",
              "      <td>4.8 oz (136 g)</td>\n",
              "      <td>300</td>\n",
              "      <td>120</td>\n",
              "      <td>13.0</td>\n",
              "      <td>20</td>\n",
              "      <td>5.0</td>\n",
              "      <td>25</td>\n",
              "      <td>0.0</td>\n",
              "      <td>...</td>\n",
              "      <td>31</td>\n",
              "      <td>10</td>\n",
              "      <td>4</td>\n",
              "      <td>17</td>\n",
              "      <td>3</td>\n",
              "      <td>17</td>\n",
              "      <td>10</td>\n",
              "      <td>0</td>\n",
              "      <td>25</td>\n",
              "      <td>15</td>\n",
              "    </tr>\n",
              "    <tr>\n",
              "      <th>1</th>\n",
              "      <td>Breakfast</td>\n",
              "      <td>Egg White Delight</td>\n",
              "      <td>4.8 oz (135 g)</td>\n",
              "      <td>250</td>\n",
              "      <td>70</td>\n",
              "      <td>8.0</td>\n",
              "      <td>12</td>\n",
              "      <td>3.0</td>\n",
              "      <td>15</td>\n",
              "      <td>0.0</td>\n",
              "      <td>...</td>\n",
              "      <td>30</td>\n",
              "      <td>10</td>\n",
              "      <td>4</td>\n",
              "      <td>17</td>\n",
              "      <td>3</td>\n",
              "      <td>18</td>\n",
              "      <td>6</td>\n",
              "      <td>0</td>\n",
              "      <td>25</td>\n",
              "      <td>8</td>\n",
              "    </tr>\n",
              "    <tr>\n",
              "      <th>2</th>\n",
              "      <td>Breakfast</td>\n",
              "      <td>Sausage McMuffin</td>\n",
              "      <td>3.9 oz (111 g)</td>\n",
              "      <td>370</td>\n",
              "      <td>200</td>\n",
              "      <td>23.0</td>\n",
              "      <td>35</td>\n",
              "      <td>8.0</td>\n",
              "      <td>42</td>\n",
              "      <td>0.0</td>\n",
              "      <td>...</td>\n",
              "      <td>29</td>\n",
              "      <td>10</td>\n",
              "      <td>4</td>\n",
              "      <td>17</td>\n",
              "      <td>2</td>\n",
              "      <td>14</td>\n",
              "      <td>8</td>\n",
              "      <td>0</td>\n",
              "      <td>25</td>\n",
              "      <td>10</td>\n",
              "    </tr>\n",
              "    <tr>\n",
              "      <th>3</th>\n",
              "      <td>Breakfast</td>\n",
              "      <td>Sausage McMuffin with Egg</td>\n",
              "      <td>5.7 oz (161 g)</td>\n",
              "      <td>450</td>\n",
              "      <td>250</td>\n",
              "      <td>28.0</td>\n",
              "      <td>43</td>\n",
              "      <td>10.0</td>\n",
              "      <td>52</td>\n",
              "      <td>0.0</td>\n",
              "      <td>...</td>\n",
              "      <td>30</td>\n",
              "      <td>10</td>\n",
              "      <td>4</td>\n",
              "      <td>17</td>\n",
              "      <td>2</td>\n",
              "      <td>21</td>\n",
              "      <td>15</td>\n",
              "      <td>0</td>\n",
              "      <td>30</td>\n",
              "      <td>15</td>\n",
              "    </tr>\n",
              "    <tr>\n",
              "      <th>4</th>\n",
              "      <td>Breakfast</td>\n",
              "      <td>Sausage McMuffin with Egg Whites</td>\n",
              "      <td>5.7 oz (161 g)</td>\n",
              "      <td>400</td>\n",
              "      <td>210</td>\n",
              "      <td>23.0</td>\n",
              "      <td>35</td>\n",
              "      <td>8.0</td>\n",
              "      <td>42</td>\n",
              "      <td>0.0</td>\n",
              "      <td>...</td>\n",
              "      <td>30</td>\n",
              "      <td>10</td>\n",
              "      <td>4</td>\n",
              "      <td>17</td>\n",
              "      <td>2</td>\n",
              "      <td>21</td>\n",
              "      <td>6</td>\n",
              "      <td>0</td>\n",
              "      <td>25</td>\n",
              "      <td>10</td>\n",
              "    </tr>\n",
              "  </tbody>\n",
              "</table>\n",
              "<p>5 rows × 24 columns</p>\n",
              "</div>"
            ],
            "text/plain": [
              "    Category                              Item    Serving Size  Calories  \\\n",
              "0  Breakfast                      Egg McMuffin  4.8 oz (136 g)       300   \n",
              "1  Breakfast                 Egg White Delight  4.8 oz (135 g)       250   \n",
              "2  Breakfast                  Sausage McMuffin  3.9 oz (111 g)       370   \n",
              "3  Breakfast         Sausage McMuffin with Egg  5.7 oz (161 g)       450   \n",
              "4  Breakfast  Sausage McMuffin with Egg Whites  5.7 oz (161 g)       400   \n",
              "\n",
              "   Calories from Fat  Total Fat  Total Fat (% Daily Value)  Saturated Fat  \\\n",
              "0                120       13.0                         20            5.0   \n",
              "1                 70        8.0                         12            3.0   \n",
              "2                200       23.0                         35            8.0   \n",
              "3                250       28.0                         43           10.0   \n",
              "4                210       23.0                         35            8.0   \n",
              "\n",
              "   Saturated Fat (% Daily Value)  Trans Fat  ...  Carbohydrates  \\\n",
              "0                             25        0.0  ...             31   \n",
              "1                             15        0.0  ...             30   \n",
              "2                             42        0.0  ...             29   \n",
              "3                             52        0.0  ...             30   \n",
              "4                             42        0.0  ...             30   \n",
              "\n",
              "   Carbohydrates (% Daily Value)  Dietary Fiber  \\\n",
              "0                             10              4   \n",
              "1                             10              4   \n",
              "2                             10              4   \n",
              "3                             10              4   \n",
              "4                             10              4   \n",
              "\n",
              "   Dietary Fiber (% Daily Value)  Sugars  Protein  Vitamin A (% Daily Value)  \\\n",
              "0                             17       3       17                         10   \n",
              "1                             17       3       18                          6   \n",
              "2                             17       2       14                          8   \n",
              "3                             17       2       21                         15   \n",
              "4                             17       2       21                          6   \n",
              "\n",
              "   Vitamin C (% Daily Value)  Calcium (% Daily Value)  Iron (% Daily Value)  \n",
              "0                          0                       25                    15  \n",
              "1                          0                       25                     8  \n",
              "2                          0                       25                    10  \n",
              "3                          0                       30                    15  \n",
              "4                          0                       25                    10  \n",
              "\n",
              "[5 rows x 24 columns]"
            ]
          },
          "execution_count": 10,
          "metadata": {},
          "output_type": "execute_result"
        }
      ],
      "source": [
        "# 5\n",
        "# Mengimpor data dari dataset online\n",
        "df_web = pd.read_csv('https://raw.githubusercontent.com/michellechandraa/TutorDataMining/refs/heads/main/menu.csv')\n",
        "df_web.head()"
      ]
    },
    {
      "cell_type": "markdown",
      "metadata": {
        "id": "6em5cLipSv5O"
      },
      "source": [
        "6. Try yourself\n",
        "- Download the MLBB HERO DATASET dataset from Kaggle\n",
        "- Convert the .xlsx to .csv format (you can use python or manually from numbers)\n",
        "- Upload the converted dataset to your own github <br>\n",
        "a. Import the dataset into dataframe <br>\n",
        "b. show 10 random data from dataset <br>\n",
        "c. Find out if there are any missing values in each column <br>\n",
        "d. drop the unnecessary column <br>\n",
        "e. show the roles of the hero in that dataset <br>\n",
        "f. show the most difficult hero to use<br>\n",
        "g. find out which ones has the average higher physical_atk between Fighters and Tank<br>\n",
        "h. Make a visualization showing percentages of heroes based on their role\n",
        "\n"
      ]
    },
    {
      "cell_type": "code",
      "execution_count": 11,
      "metadata": {
        "colab": {
          "base_uri": "https://localhost:8080/",
          "height": 243
        },
        "id": "zX7KfMGCXjGE",
        "outputId": "9f1ffb14-220f-44f1-956e-38d1f2360d6b"
      },
      "outputs": [
        {
          "data": {
            "text/html": [
              "<div>\n",
              "<style scoped>\n",
              "    .dataframe tbody tr th:only-of-type {\n",
              "        vertical-align: middle;\n",
              "    }\n",
              "\n",
              "    .dataframe tbody tr th {\n",
              "        vertical-align: top;\n",
              "    }\n",
              "\n",
              "    .dataframe thead th {\n",
              "        text-align: right;\n",
              "    }\n",
              "</style>\n",
              "<table border=\"1\" class=\"dataframe\">\n",
              "  <thead>\n",
              "    <tr style=\"text-align: right;\">\n",
              "      <th></th>\n",
              "      <th>hero_name</th>\n",
              "      <th>role</th>\n",
              "      <th>defense_overall</th>\n",
              "      <th>offense_overall</th>\n",
              "      <th>skill_effect_overall</th>\n",
              "      <th>difficulty_overall</th>\n",
              "      <th>movement_spd</th>\n",
              "      <th>magic_defense</th>\n",
              "      <th>mana</th>\n",
              "      <th>hp_regen</th>\n",
              "      <th>physical_atk</th>\n",
              "      <th>physical_defense</th>\n",
              "      <th>hp</th>\n",
              "      <th>attack_speed</th>\n",
              "      <th>mana_regen</th>\n",
              "      <th>win_rate</th>\n",
              "      <th>pick_rate</th>\n",
              "      <th>ban_rate</th>\n",
              "      <th>release_year</th>\n",
              "    </tr>\n",
              "  </thead>\n",
              "  <tbody>\n",
              "    <tr>\n",
              "      <th>0</th>\n",
              "      <td>Terizla</td>\n",
              "      <td>fighter</td>\n",
              "      <td>7.0</td>\n",
              "      <td>8.0</td>\n",
              "      <td>6.0</td>\n",
              "      <td>6.0</td>\n",
              "      <td>255</td>\n",
              "      <td>10</td>\n",
              "      <td>430</td>\n",
              "      <td>54</td>\n",
              "      <td>129</td>\n",
              "      <td>19</td>\n",
              "      <td>2728</td>\n",
              "      <td>0.80</td>\n",
              "      <td>21.0</td>\n",
              "      <td>47.00</td>\n",
              "      <td>0.15</td>\n",
              "      <td>0.02</td>\n",
              "      <td>2019</td>\n",
              "    </tr>\n",
              "    <tr>\n",
              "      <th>1</th>\n",
              "      <td>Martis</td>\n",
              "      <td>fighter</td>\n",
              "      <td>6.0</td>\n",
              "      <td>8.0</td>\n",
              "      <td>5.0</td>\n",
              "      <td>5.0</td>\n",
              "      <td>260</td>\n",
              "      <td>10</td>\n",
              "      <td>0</td>\n",
              "      <td>35</td>\n",
              "      <td>128</td>\n",
              "      <td>25</td>\n",
              "      <td>2738</td>\n",
              "      <td>0.86</td>\n",
              "      <td>0.0</td>\n",
              "      <td>45.00</td>\n",
              "      <td>0.15</td>\n",
              "      <td>0.02</td>\n",
              "      <td>2018</td>\n",
              "    </tr>\n",
              "    <tr>\n",
              "      <th>2</th>\n",
              "      <td>Grock</td>\n",
              "      <td>tank</td>\n",
              "      <td>8.0</td>\n",
              "      <td>5.0</td>\n",
              "      <td>6.0</td>\n",
              "      <td>4.0</td>\n",
              "      <td>260</td>\n",
              "      <td>10</td>\n",
              "      <td>430</td>\n",
              "      <td>42</td>\n",
              "      <td>135</td>\n",
              "      <td>21</td>\n",
              "      <td>2819</td>\n",
              "      <td>0.81</td>\n",
              "      <td>12.0</td>\n",
              "      <td>47.69</td>\n",
              "      <td>0.14</td>\n",
              "      <td>0.02</td>\n",
              "      <td>2017</td>\n",
              "    </tr>\n",
              "    <tr>\n",
              "      <th>3</th>\n",
              "      <td>Carmilla</td>\n",
              "      <td>support</td>\n",
              "      <td>5.0</td>\n",
              "      <td>5.0</td>\n",
              "      <td>9.0</td>\n",
              "      <td>5.0</td>\n",
              "      <td>255</td>\n",
              "      <td>10</td>\n",
              "      <td>430</td>\n",
              "      <td>39</td>\n",
              "      <td>126</td>\n",
              "      <td>25</td>\n",
              "      <td>2528</td>\n",
              "      <td>0.91</td>\n",
              "      <td>16.0</td>\n",
              "      <td>53.76</td>\n",
              "      <td>0.08</td>\n",
              "      <td>0.02</td>\n",
              "      <td>2020</td>\n",
              "    </tr>\n",
              "    <tr>\n",
              "      <th>4</th>\n",
              "      <td>Irithel</td>\n",
              "      <td>marksman</td>\n",
              "      <td>5.0</td>\n",
              "      <td>5.0</td>\n",
              "      <td>8.0</td>\n",
              "      <td>7.0</td>\n",
              "      <td>260</td>\n",
              "      <td>10</td>\n",
              "      <td>438</td>\n",
              "      <td>35</td>\n",
              "      <td>118</td>\n",
              "      <td>17</td>\n",
              "      <td>2540</td>\n",
              "      <td>0.82</td>\n",
              "      <td>15.0</td>\n",
              "      <td>51.52</td>\n",
              "      <td>0.38</td>\n",
              "      <td>0.03</td>\n",
              "      <td>2017</td>\n",
              "    </tr>\n",
              "  </tbody>\n",
              "</table>\n",
              "</div>"
            ],
            "text/plain": [
              "  hero_name      role  defense_overall  offense_overall  skill_effect_overall  \\\n",
              "0   Terizla   fighter              7.0              8.0                   6.0   \n",
              "1    Martis   fighter              6.0              8.0                   5.0   \n",
              "2     Grock      tank              8.0              5.0                   6.0   \n",
              "3  Carmilla   support              5.0              5.0                   9.0   \n",
              "4   Irithel  marksman              5.0              5.0                   8.0   \n",
              "\n",
              "   difficulty_overall  movement_spd  magic_defense  mana  hp_regen  \\\n",
              "0                 6.0           255             10   430        54   \n",
              "1                 5.0           260             10     0        35   \n",
              "2                 4.0           260             10   430        42   \n",
              "3                 5.0           255             10   430        39   \n",
              "4                 7.0           260             10   438        35   \n",
              "\n",
              "   physical_atk  physical_defense    hp  attack_speed  mana_regen  win_rate  \\\n",
              "0           129                19  2728          0.80        21.0     47.00   \n",
              "1           128                25  2738          0.86         0.0     45.00   \n",
              "2           135                21  2819          0.81        12.0     47.69   \n",
              "3           126                25  2528          0.91        16.0     53.76   \n",
              "4           118                17  2540          0.82        15.0     51.52   \n",
              "\n",
              "   pick_rate  ban_rate  release_year  \n",
              "0       0.15      0.02          2019  \n",
              "1       0.15      0.02          2018  \n",
              "2       0.14      0.02          2017  \n",
              "3       0.08      0.02          2020  \n",
              "4       0.38      0.03          2017  "
            ]
          },
          "execution_count": 11,
          "metadata": {},
          "output_type": "execute_result"
        }
      ],
      "source": [
        "# a\n",
        "url = \"https://raw.githubusercontent.com/eabigails/Week2_DataMining/main/mlbb_hero.csv\"\n",
        "df_mlbb = pd.read_csv(url, delimiter=';')\n",
        "df_mlbb.head()"
      ]
    },
    {
      "cell_type": "code",
      "execution_count": 12,
      "metadata": {
        "colab": {
          "base_uri": "https://localhost:8080/",
          "height": 400
        },
        "id": "kkjiLjqMYDj_",
        "outputId": "9b929fca-73a5-4781-9182-cdf4765a5885"
      },
      "outputs": [
        {
          "name": "stdout",
          "output_type": "stream",
          "text": [
            "  hero_name     role  defense_overall  offense_overall  skill_effect_overall  \\\n",
            "0    Eudora     mage              4.0              5.0                   9.0   \n",
            "1   Alucard  fighter              5.0              8.0                   5.0   \n",
            "2  Yu Zhong  fighter              8.0              6.0                   8.0   \n",
            "3     Atlas     tank              8.0              5.0                   7.0   \n",
            "4  Minotaur     tank              9.0              7.0                   5.0   \n",
            "\n",
            "   difficulty_overall  movement_spd  magic_defense  mana  hp_regen  \\\n",
            "0                 4.0           250             10   468        38   \n",
            "1                 5.0           260             10     0        39   \n",
            "2                 7.0           245             10   430        59   \n",
            "3                 6.0           240             10   440        42   \n",
            "4                 3.0           260             10     0        44   \n",
            "\n",
            "   physical_atk  physical_defense    hp  attack_speed  mana_regen  win_rate  \\\n",
            "0           112                19  2254          0.80        16.0     48.76   \n",
            "1           123                21  2821          0.90         0.0     48.92   \n",
            "2           129                21  2898          0.80        16.0     50.11   \n",
            "3           135                21  2819          0.78        15.0     51.58   \n",
            "4           123                23  2709          0.73         0.0     52.29   \n",
            "\n",
            "   pick_rate  ban_rate  release_year  \n",
            "0       1.69      0.36          2016  \n",
            "1       1.52      0.23          2016  \n",
            "2       1.51      2.87          2020  \n",
            "3       0.75      1.53          2020  \n",
            "4       0.21      0.09          2016  \n"
          ]
        }
      ],
      "source": [
        "# b\n",
        "df_randomized = df_mlbb.sample(frac=1).reset_index(drop=True)\n",
        "print(df_randomized.head())"
      ]
    },
    {
      "cell_type": "code",
      "execution_count": 13,
      "metadata": {
        "colab": {
          "base_uri": "https://localhost:8080/",
          "height": 711
        },
        "id": "9SHH-Y86YkNg",
        "outputId": "2a2b2dc0-3b08-471f-a593-92aba66647c3"
      },
      "outputs": [
        {
          "name": "stdout",
          "output_type": "stream",
          "text": [
            "hero_name               0\n",
            "role                    0\n",
            "defense_overall         0\n",
            "offense_overall         0\n",
            "skill_effect_overall    0\n",
            "difficulty_overall      0\n",
            "movement_spd            0\n",
            "magic_defense           0\n",
            "mana                    0\n",
            "hp_regen                0\n",
            "physical_atk            0\n",
            "physical_defense        0\n",
            "hp                      0\n",
            "attack_speed            0\n",
            "mana_regen              0\n",
            "win_rate                0\n",
            "pick_rate               0\n",
            "ban_rate                0\n",
            "release_year            0\n",
            "dtype: int64\n"
          ]
        }
      ],
      "source": [
        "#c\n",
        "missing_values = df_mlbb.isnull().sum()\n",
        "print(missing_values)\n"
      ]
    },
    {
      "cell_type": "code",
      "execution_count": 14,
      "metadata": {
        "colab": {
          "base_uri": "https://localhost:8080/",
          "height": 226
        },
        "id": "QieeGXjTSYS6",
        "outputId": "89a600f5-fa40-4c84-a805-708f3f790c07"
      },
      "outputs": [],
      "source": [
        "# d\n",
        "# no unnesecary column"
      ]
    },
    {
      "cell_type": "code",
      "execution_count": 15,
      "metadata": {
        "colab": {
          "base_uri": "https://localhost:8080/"
        },
        "id": "lrr1E2ZsT_To",
        "outputId": "005a986d-183f-4f84-b660-331a4e67f3f7"
      },
      "outputs": [
        {
          "data": {
            "text/plain": [
              "['fighter', 'tank', 'support', 'marksman', 'mage', 'assassin']"
            ]
          },
          "execution_count": 15,
          "metadata": {},
          "output_type": "execute_result"
        }
      ],
      "source": [
        "# e\n",
        "unique_roles = df_mlbb['role'].unique().tolist()\n",
        "unique_roles"
      ]
    },
    {
      "cell_type": "code",
      "execution_count": 16,
      "metadata": {
        "colab": {
          "base_uri": "https://localhost:8080/"
        },
        "id": "cb99QYcnZWAM",
        "outputId": "6a89eb8b-f9ff-4d46-a9fe-33f52f593d3b"
      },
      "outputs": [
        {
          "name": "stdout",
          "output_type": "stream",
          "text": [
            "The most difficult hero to use is Fanny\n"
          ]
        }
      ],
      "source": [
        "# f\n",
        "most_difficult_hero = df_mlbb.sort_values(by='difficulty_overall', ascending=False).iloc[0]['hero_name']\n",
        "\n",
        "# Display the most difficult hero to use\n",
        "print(\"The most difficult hero to use is\", most_difficult_hero)\n"
      ]
    },
    {
      "cell_type": "code",
      "execution_count": 17,
      "metadata": {
        "colab": {
          "base_uri": "https://localhost:8080/"
        },
        "id": "-Yr4xxUdoMsr",
        "outputId": "a9ba07e0-1775-41de-ea97-3850d99a6c43"
      },
      "outputs": [
        {
          "name": "stdout",
          "output_type": "stream",
          "text": [
            "Average physical attack for Fighters: 119.96551724137932\n",
            "Average physical attack for Tanks 119.53333333333333\n",
            "Fighters has higher physical attack than Tanks\n"
          ]
        }
      ],
      "source": [
        "# g\n",
        "fighters = df_mlbb[df_mlbb['role'] == 'fighter']\n",
        "tanks = df_mlbb[df_mlbb['role'] == 'tank']\n",
        "\n",
        "avg_fighters = fighters['physical_atk'].mean()\n",
        "print(\"Average physical attack for Fighters:\", avg_fighters)\n",
        "avg_tanks = tanks['physical_atk'].mean()\n",
        "print(\"Average physical attack for Tanks\", avg_tanks)\n",
        "\n",
        "if avg_tanks > avg_fighters:\n",
        "    print(\"Tanks has higher physical attack than Fighters\")\n",
        "elif avg_fighters > avg_tanks: print(\"Fighters has higher physical attack than Tanks\")\n",
        "else: print(\"Tanks and Fighters have the same average physical attack\")\n"
      ]
    },
    {
      "cell_type": "code",
      "execution_count": 18,
      "metadata": {
        "colab": {
          "base_uri": "https://localhost:8080/",
          "height": 675
        },
        "id": "MamvJr7KoN62",
        "outputId": "50148ae6-f33e-4fd1-8f24-755281435f17"
      },
      "outputs": [
        {
          "data": {
            "image/png": "[encoded data removed]",
            "text/plain": [
              "<Figure size 800x800 with 1 Axes>"
            ]
          },
          "metadata": {},
          "output_type": "display_data"
        }
      ],
      "source": [
        "# h\n",
        "\n",
        "# Calculate the percentage of heroes for each role\n",
        "role_counts = df_mlbb['role'].value_counts(normalize=True) * 100\n",
        "\n",
        "# Plot a pie chart for the role percentages\n",
        "plt.figure(figsize=(8, 8))\n",
        "plt.pie(role_counts, autopct='%1.1f%%', startangle=140)\n",
        "plt.title('Percentage of Heroes by Role')\n",
        "plt.axis('equal')  # Equal aspect ratio ensures that pie is drawn as a circle.\n",
        "plt.show()"
      ]
    },
    {
      "cell_type": "markdown",
      "metadata": {
        "id": "DncRbVBdkKYF"
      },
      "source": [
        "7. I have a character with this specification:\n",
        "defense_overall 6.0<br>\n",
        "offense_overall 7.0<br>\n",
        "skill_effect_overall 4.0<br>\n",
        "difficulty_overall 3.0<br>\n",
        "movement_spd 250<br>\n",
        "magic_defense 9<br>\n",
        "mana 380<br>\n",
        "hp_regen 37<br>\n",
        "physical_atk 119<br>\n",
        "physical_defense 24<br>\n",
        "hp 2689<br>\n",
        "attack_speed 0.75<br>\n",
        "mana_regen 16.0<br>\n",
        "\n",
        "Please predict its role using DecisionTree classification algorithm <br>"
      ]
    },
    {
      "cell_type": "code",
      "execution_count": 38,
      "metadata": {
        "colab": {
          "base_uri": "https://localhost:8080/"
        },
        "id": "AR63DLKQo6Nf",
        "outputId": "0a104b13-dd93-4dbc-bff5-77892a27ba7f"
      },
      "outputs": [
        {
          "name": "stdout",
          "output_type": "stream",
          "text": [
            "Accuracy : 0.6666666666666666\n",
            "Predicted role for the character : fighter\n"
          ]
        },
        {
          "name": "stderr",
          "output_type": "stream",
          "text": [
            "c:\\Users\\yulia\\anaconda3\\Lib\\site-packages\\sklearn\\base.py:464: UserWarning: X does not have valid feature names, but DecisionTreeClassifier was fitted with feature names\n",
            "  warnings.warn(\n"
          ]
        }
      ],
      "source": [
        "# 7\n",
        "# import library\n",
        "from sklearn.tree import DecisionTreeClassifier\n",
        "from sklearn.model_selection import train_test_split\n",
        "from sklearn.preprocessing import LabelEncoder\n",
        "from sklearn.metrics import accuracy_score\n",
        "\n",
        "# Encode the 'role' column\n",
        "le = LabelEncoder()\n",
        "df_mlbb['role_encoded'] = le.fit_transform(df_mlbb['role'])\n",
        "\n",
        "# Separate features and target variable\n",
        "features = ['defense_overall', 'offense_overall', 'skill_effect_overall', 'difficulty_overall',\n",
        "            'movement_spd', 'magic_defense', 'mana', 'hp_regen', 'physical_atk', 'physical_defense',\n",
        "            'hp', 'attack_speed', 'mana_regen']\n",
        "\n",
        "X = df_mlbb[features]\n",
        "y = df_mlbb['role_encoded']\n",
        "\n",
        "# Split the data into training and testing sets\n",
        "X_train, X_test, y_train, y_test = train_test_split(X, y, test_size=0.2)\n",
        "\n",
        "# Create a Decision Tree Classifier\n",
        "clf = DecisionTreeClassifier()\n",
        "\n",
        "# Train the model\n",
        "clf.fit(X_train, y_train)\n",
        "\n",
        "# Make predictions on the test set\n",
        "y_pred = clf.predict(X_test)\n",
        "\n",
        "# Evaluate the model\n",
        "accuracy = accuracy_score(y_test, y_pred)\n",
        "\n",
        "# Predict the role for the given character\n",
        "new_character = [[6.0, 7.0, 4.0, 3.0, 250, 9, 380, 37, 119, 24, 2689, 0.75, 16.0]]\n",
        "predicted_role_encoded = clf.predict(new_character)\n",
        "\n",
        "# Get the predicted role\n",
        "predicted_role = le.inverse_transform(predicted_role_encoded)\n",
        "\n",
        "\n",
        "print(\"Accuracy : {}\".format(accuracy))\n",
        "print(\"Predicted role for the character : {}\".format(predicted_role[0]))"
      ]
    },
    {
      "cell_type": "markdown",
      "metadata": {
        "id": "8Wg4r64_kfZY"
      },
      "source": [
        "8. Why is CSV one of the most commonly used file formats in the field of data science? <br>"
      ]
    },
    {
      "cell_type": "code",
      "execution_count": 20,
      "metadata": {
        "id": "tYf12GVMlhzJ"
      },
      "outputs": [
        {
          "name": "stdout",
          "output_type": "stream",
          "text": [
            "CSV are a popular choice is because their compatibility with various data analysis tools and language. \n",
            "Analyst can easily manipulate their data in CSV format. Other than that, CSV are easier to read and write too as it is lightweighted.\n"
          ]
        }
      ],
      "source": [
        "# 8\n",
        "# Reference: https://www.oneschema.co/blog/csv-files#:~:text=Data%20Analysis%3A%20CSV%20files%20are,common%20format%20for%20storing%20datasets.\n",
        "print(\"CSV are a popular choice is because their compatibility with various data analysis tools and language. \\nAnalyst can easily manipulate their data in CSV format. Other than that, CSV are easier to read and write too as it is lightweighted.\")"
      ]
    }
  ],
  "metadata": {
    "colab": {
      "provenance": []
    },
    "kernelspec": {
      "display_name": "Python 3",
      "name": "python3"
    },
    "language_info": {
      "codemirror_mode": {
        "name": "ipython",
        "version": 3
      },
      "file_extension": ".py",
      "mimetype": "text/x-python",
      "name": "python",
      "nbconvert_exporter": "python",
      "pygments_lexer": "ipython3",
      "version": "3.11.4"
    }
  },
  "nbformat": 4,
  "nbformat_minor": 0
}
